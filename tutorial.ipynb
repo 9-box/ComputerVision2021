{
 "cells": [
  {
   "cell_type": "code",
   "execution_count": 1,
   "id": "ed841ee0-2c06-4002-9c8f-fa3ee77d02c3",
   "metadata": {},
   "outputs": [
    {
     "data": {
      "text/plain": [
       "3"
      ]
     },
     "execution_count": 1,
     "metadata": {},
     "output_type": "execute_result"
    }
   ],
   "source": [
    "\n",
    "1+2"
   ]
  },
  {
   "cell_type": "code",
   "execution_count": 2,
   "id": "7b8c9178-c884-4925-9e4b-ac9669eff784",
   "metadata": {},
   "outputs": [],
   "source": [
    "x ,y =2, 3"
   ]
  },
  {
   "cell_type": "code",
   "execution_count": 37,
   "id": "52eb055d-acec-4286-9449-8e416f46d8b3",
   "metadata": {},
   "outputs": [
    {
     "data": {
      "text/plain": [
       "2"
      ]
     },
     "execution_count": 37,
     "metadata": {},
     "output_type": "execute_result"
    }
   ],
   "source": [
    "x#asdwa"
   ]
  },
  {
   "cell_type": "code",
   "execution_count": 4,
   "id": "7f0c7c6f-e2d3-4362-86f0-4a3a681135f1",
   "metadata": {},
   "outputs": [
    {
     "data": {
      "text/plain": [
       "3"
      ]
     },
     "execution_count": 4,
     "metadata": {},
     "output_type": "execute_result"
    }
   ],
   "source": [
    "y"
   ]
  },
  {
   "cell_type": "code",
   "execution_count": 5,
   "id": "1a6b82c9-dcb7-4bbd-ba08-879d39c000e2",
   "metadata": {},
   "outputs": [],
   "source": [
    "tu = (23,'abc',4.56,(2,3),'def')"
   ]
  },
  {
   "cell_type": "code",
   "execution_count": 6,
   "id": "d1965ad8-1a02-4d50-b27a-0112b51643f6",
   "metadata": {},
   "outputs": [
    {
     "data": {
      "text/plain": [
       "23"
      ]
     },
     "execution_count": 6,
     "metadata": {},
     "output_type": "execute_result"
    }
   ],
   "source": [
    "tu[0]"
   ]
  },
  {
   "cell_type": "code",
   "execution_count": 7,
   "id": "6bf7569a-6676-42f3-9dd4-af76f943db8d",
   "metadata": {},
   "outputs": [
    {
     "data": {
      "text/plain": [
       "'abc'"
      ]
     },
     "execution_count": 7,
     "metadata": {},
     "output_type": "execute_result"
    }
   ],
   "source": [
    "tu[1]"
   ]
  },
  {
   "cell_type": "code",
   "execution_count": 8,
   "id": "b675694a-c856-48aa-bb98-303241ad2de6",
   "metadata": {},
   "outputs": [
    {
     "data": {
      "text/plain": [
       "4.56"
      ]
     },
     "execution_count": 8,
     "metadata": {},
     "output_type": "execute_result"
    }
   ],
   "source": [
    "tu[2]"
   ]
  },
  {
   "cell_type": "code",
   "execution_count": 9,
   "id": "ea04f14c-192f-4392-bb45-ef761b9a6dde",
   "metadata": {},
   "outputs": [
    {
     "data": {
      "text/plain": [
       "(2, 3)"
      ]
     },
     "execution_count": 9,
     "metadata": {},
     "output_type": "execute_result"
    }
   ],
   "source": [
    "tu[3]"
   ]
  },
  {
   "cell_type": "code",
   "execution_count": 10,
   "id": "c71032a4-286d-4933-85e3-519348b859b4",
   "metadata": {},
   "outputs": [
    {
     "data": {
      "text/plain": [
       "'def'"
      ]
     },
     "execution_count": 10,
     "metadata": {},
     "output_type": "execute_result"
    }
   ],
   "source": [
    "tu[4]"
   ]
  },
  {
   "cell_type": "code",
   "execution_count": 11,
   "id": "20a06305-4719-4c0f-b0bb-e85d46d27755",
   "metadata": {},
   "outputs": [],
   "source": [
    "li = ['abc',34,4.34,23]"
   ]
  },
  {
   "cell_type": "code",
   "execution_count": 12,
   "id": "fc04aeed-8ca2-465c-8a72-d97cd751c413",
   "metadata": {},
   "outputs": [
    {
     "data": {
      "text/plain": [
       "'abc'"
      ]
     },
     "execution_count": 12,
     "metadata": {},
     "output_type": "execute_result"
    }
   ],
   "source": [
    "li[0]"
   ]
  },
  {
   "cell_type": "code",
   "execution_count": 13,
   "id": "e963d185-7e84-422e-9fc4-63ae7a7389a8",
   "metadata": {},
   "outputs": [],
   "source": [
    "st = \"hello World\""
   ]
  },
  {
   "cell_type": "code",
   "execution_count": 14,
   "id": "7b5a989e-15a9-4992-ba81-b9fa6e7fe1ad",
   "metadata": {},
   "outputs": [
    {
     "data": {
      "text/plain": [
       "'hello World'"
      ]
     },
     "execution_count": 14,
     "metadata": {},
     "output_type": "execute_result"
    }
   ],
   "source": [
    "st"
   ]
  },
  {
   "cell_type": "code",
   "execution_count": 15,
   "id": "4ab396e6-7809-4ca9-ab04-543b59a8ebf1",
   "metadata": {},
   "outputs": [],
   "source": [
    "st= 'hello world'"
   ]
  },
  {
   "cell_type": "code",
   "execution_count": 16,
   "id": "d05af265-0590-4ecb-8054-97046f91b755",
   "metadata": {},
   "outputs": [
    {
     "data": {
      "text/plain": [
       "'hello world'"
      ]
     },
     "execution_count": 16,
     "metadata": {},
     "output_type": "execute_result"
    }
   ],
   "source": [
    "st"
   ]
  },
  {
   "cell_type": "code",
   "execution_count": null,
   "id": "7afe7c08-588e-46c2-a8a9-ff2b955c15ac",
   "metadata": {},
   "outputs": [],
   "source": []
  },
  {
   "cell_type": "code",
   "execution_count": null,
   "id": "f59ee99f-a8b4-4674-8124-b199b1454a1e",
   "metadata": {},
   "outputs": [],
   "source": []
  },
  {
   "cell_type": "code",
   "execution_count": 17,
   "id": "2126d419-1c1c-45c8-a255-11f9fdb94d70",
   "metadata": {},
   "outputs": [
    {
     "ename": "SyntaxError",
     "evalue": "EOF while scanning triple-quoted string literal (<ipython-input-17-45cc4bac36be>, line 1)",
     "output_type": "error",
     "traceback": [
      "\u001b[1;36m  File \u001b[1;32m\"<ipython-input-17-45cc4bac36be>\"\u001b[1;36m, line \u001b[1;32m1\u001b[0m\n\u001b[1;33m    st = \"\"\"this is a multi-line\u001b[0m\n\u001b[1;37m                                ^\u001b[0m\n\u001b[1;31mSyntaxError\u001b[0m\u001b[1;31m:\u001b[0m EOF while scanning triple-quoted string literal\n"
     ]
    }
   ],
   "source": [
    "st = \"\"\"this is a multi-line\n"
   ]
  },
  {
   "cell_type": "code",
   "execution_count": null,
   "id": "7f727e7d-0b18-41fc-82b8-cf0c9cbf9314",
   "metadata": {},
   "outputs": [],
   "source": []
  },
  {
   "cell_type": "code",
   "execution_count": 18,
   "id": "8c2e15aa-7ce2-4c5b-9695-e61f98985057",
   "metadata": {},
   "outputs": [
    {
     "ename": "SyntaxError",
     "evalue": "invalid character in identifier (<ipython-input-18-4c844b937649>, line 1)",
     "output_type": "error",
     "traceback": [
      "\u001b[1;36m  File \u001b[1;32m\"<ipython-input-18-4c844b937649>\"\u001b[1;36m, line \u001b[1;32m1\u001b[0m\n\u001b[1;33m    st = “““This is a multi-line\u001b[0m\n\u001b[1;37m               ^\u001b[0m\n\u001b[1;31mSyntaxError\u001b[0m\u001b[1;31m:\u001b[0m invalid character in identifier\n"
     ]
    }
   ],
   "source": [
    " st = “““This is a multi-line\n",
    "string that uses triple quotes.”””"
   ]
  },
  {
   "cell_type": "code",
   "execution_count": 19,
   "id": "b2bea908-27de-4189-97d4-a4bd1bcae0f2",
   "metadata": {},
   "outputs": [],
   "source": [
    "st= \"\"\"this is a multe-line string that uses triple quotes.\"\"\""
   ]
  },
  {
   "cell_type": "code",
   "execution_count": 20,
   "id": "8ec6b763-408b-4d94-9977-64a04cd79d3d",
   "metadata": {},
   "outputs": [
    {
     "data": {
      "text/plain": [
       "'this is a multe-line string that uses triple quotes.'"
      ]
     },
     "execution_count": 20,
     "metadata": {},
     "output_type": "execute_result"
    }
   ],
   "source": [
    "st"
   ]
  },
  {
   "cell_type": "code",
   "execution_count": 21,
   "id": "f57f743d-3fb4-41d5-a6ab-a3e88a726091",
   "metadata": {},
   "outputs": [
    {
     "data": {
      "text/plain": [
       "'i'"
      ]
     },
     "execution_count": 21,
     "metadata": {},
     "output_type": "execute_result"
    }
   ],
   "source": [
    "st[2]"
   ]
  },
  {
   "cell_type": "code",
   "execution_count": 22,
   "id": "76f488f7-3e1c-47d1-8393-c405dd07e0b5",
   "metadata": {},
   "outputs": [
    {
     "data": {
      "text/plain": [
       "'m'"
      ]
     },
     "execution_count": 22,
     "metadata": {},
     "output_type": "execute_result"
    }
   ],
   "source": [
    "st[10]"
   ]
  },
  {
   "cell_type": "code",
   "execution_count": 23,
   "id": "6a18522d-e07e-4dae-8fc6-9c09947ca529",
   "metadata": {},
   "outputs": [
    {
     "data": {
      "text/plain": [
       "' '"
      ]
     },
     "execution_count": 23,
     "metadata": {},
     "output_type": "execute_result"
    }
   ],
   "source": [
    "st[9]"
   ]
  },
  {
   "cell_type": "code",
   "execution_count": 24,
   "id": "b7314b70-6d28-4d28-8edb-254f12249baa",
   "metadata": {},
   "outputs": [
    {
     "ename": "IndexError",
     "evalue": "list index out of range",
     "output_type": "error",
     "traceback": [
      "\u001b[1;31m---------------------------------------------------------------------------\u001b[0m",
      "\u001b[1;31mIndexError\u001b[0m                                Traceback (most recent call last)",
      "\u001b[1;32m<ipython-input-24-eaafe881b5d5>\u001b[0m in \u001b[0;36m<module>\u001b[1;34m\u001b[0m\n\u001b[1;32m----> 1\u001b[1;33m \u001b[0mli\u001b[0m\u001b[1;33m[\u001b[0m\u001b[1;36m4\u001b[0m\u001b[1;33m]\u001b[0m\u001b[1;33m\u001b[0m\u001b[1;33m\u001b[0m\u001b[0m\n\u001b[0m",
      "\u001b[1;31mIndexError\u001b[0m: list index out of range"
     ]
    }
   ],
   "source": [
    "li[4]"
   ]
  },
  {
   "cell_type": "code",
   "execution_count": 25,
   "id": "151a2736-1709-40ab-8962-bce068587875",
   "metadata": {},
   "outputs": [
    {
     "data": {
      "text/plain": [
       "23"
      ]
     },
     "execution_count": 25,
     "metadata": {},
     "output_type": "execute_result"
    }
   ],
   "source": [
    "li[3]"
   ]
  },
  {
   "cell_type": "code",
   "execution_count": 26,
   "id": "c45d3387-6ca7-4241-808a-b7b704d6d104",
   "metadata": {},
   "outputs": [
    {
     "data": {
      "text/plain": [
       "4.56"
      ]
     },
     "execution_count": 26,
     "metadata": {},
     "output_type": "execute_result"
    }
   ],
   "source": [
    "tu[-3]"
   ]
  },
  {
   "cell_type": "code",
   "execution_count": 27,
   "id": "8e85af1e-49c3-4e9f-a43a-d5c28e09f9ce",
   "metadata": {},
   "outputs": [
    {
     "data": {
      "text/plain": [
       "'def'"
      ]
     },
     "execution_count": 27,
     "metadata": {},
     "output_type": "execute_result"
    }
   ],
   "source": [
    "tu[-1]"
   ]
  },
  {
   "cell_type": "code",
   "execution_count": 28,
   "id": "f32f18bc-ce8d-4a9e-a923-5c6d6d8a293d",
   "metadata": {},
   "outputs": [
    {
     "ename": "SyntaxError",
     "evalue": "EOL while scanning string literal (<ipython-input-28-7cd4765813c8>, line 1)",
     "output_type": "error",
     "traceback": [
      "\u001b[1;36m  File \u001b[1;32m\"<ipython-input-28-7cd4765813c8>\"\u001b[1;36m, line \u001b[1;32m1\u001b[0m\n\u001b[1;33m    t = (23,'abc',4.56,(2,3),'def)\u001b[0m\n\u001b[1;37m                                  ^\u001b[0m\n\u001b[1;31mSyntaxError\u001b[0m\u001b[1;31m:\u001b[0m EOL while scanning string literal\n"
     ]
    }
   ],
   "source": [
    "t = (23,'abc',4.56,(2,3),'def)"
   ]
  },
  {
   "cell_type": "code",
   "execution_count": 29,
   "id": "9f5a1def-21f6-4b84-aec4-b9e31fa4ab44",
   "metadata": {},
   "outputs": [],
   "source": [
    "t = (23,'abc',4.56,(2,3),'def')"
   ]
  },
  {
   "cell_type": "code",
   "execution_count": 30,
   "id": "226a0b25-7b72-464b-8c29-f1ffef4d9ae4",
   "metadata": {},
   "outputs": [
    {
     "data": {
      "text/plain": [
       "('abc', 4.56, (2, 3))"
      ]
     },
     "execution_count": 30,
     "metadata": {},
     "output_type": "execute_result"
    }
   ],
   "source": [
    "t[1:4]"
   ]
  },
  {
   "cell_type": "code",
   "execution_count": 31,
   "id": "2e306827-8d38-4265-8a3f-3c44fc3099c3",
   "metadata": {},
   "outputs": [
    {
     "ename": "SyntaxError",
     "evalue": "Missing parentheses in call to 'print'. Did you mean print(i)? (<ipython-input-31-961ddbc0409d>, line 2)",
     "output_type": "error",
     "traceback": [
      "\u001b[1;36m  File \u001b[1;32m\"<ipython-input-31-961ddbc0409d>\"\u001b[1;36m, line \u001b[1;32m2\u001b[0m\n\u001b[1;33m    print i\u001b[0m\n\u001b[1;37m          ^\u001b[0m\n\u001b[1;31mSyntaxError\u001b[0m\u001b[1;31m:\u001b[0m Missing parentheses in call to 'print'. Did you mean print(i)?\n"
     ]
    }
   ],
   "source": [
    "for i in[x**2 for  x in range(5)]:\n",
    "    print i"
   ]
  },
  {
   "cell_type": "code",
   "execution_count": 32,
   "id": "996cfb18-6ec8-44da-b050-85634f411e09",
   "metadata": {},
   "outputs": [
    {
     "data": {
      "text/plain": [
       "'asdsdwawd'"
      ]
     },
     "execution_count": 32,
     "metadata": {},
     "output_type": "execute_result"
    }
   ],
   "source": [
    "\"\"\"asdsdwawd\"\"\""
   ]
  },
  {
   "cell_type": "code",
   "execution_count": 33,
   "id": "f8116fa2-35c6-4d8d-98fc-458c07207803",
   "metadata": {},
   "outputs": [],
   "source": [
    "tu = (23,'abc',4.56,(2,3),'def')\n",
    "li = ['abc',34,4.34,23]"
   ]
  },
  {
   "cell_type": "code",
   "execution_count": 34,
   "id": "9306a8d4-ec5b-45a9-b6a6-7e7f32c1496b",
   "metadata": {},
   "outputs": [
    {
     "data": {
      "text/plain": [
       "(23, 'abc', 4.56, (2, 3), 'def')"
      ]
     },
     "execution_count": 34,
     "metadata": {},
     "output_type": "execute_result"
    }
   ],
   "source": [
    "tu"
   ]
  },
  {
   "cell_type": "code",
   "execution_count": 35,
   "id": "6975ada7-7a74-466b-bfaf-3ec7f44e3eb2",
   "metadata": {},
   "outputs": [
    {
     "data": {
      "text/plain": [
       "['abc', 34, 4.34, 23]"
      ]
     },
     "execution_count": 35,
     "metadata": {},
     "output_type": "execute_result"
    }
   ],
   "source": [
    "li"
   ]
  },
  {
   "cell_type": "code",
   "execution_count": 36,
   "id": "73c60bd4-a87b-4305-9218-2252b5938ccb",
   "metadata": {},
   "outputs": [
    {
     "ename": "NameError",
     "evalue": "name 'c' is not defined",
     "output_type": "error",
     "traceback": [
      "\u001b[1;31m---------------------------------------------------------------------------\u001b[0m",
      "\u001b[1;31mNameError\u001b[0m                                 Traceback (most recent call last)",
      "\u001b[1;32m<ipython-input-36-89ba8108a9d2>\u001b[0m in \u001b[0;36m<module>\u001b[1;34m\u001b[0m\n\u001b[1;32m----> 1\u001b[1;33m \u001b[0mc\u001b[0m\u001b[1;33m,\u001b[0m \u001b[0mjava\u001b[0m \u001b[1;33m,\u001b[0m \u001b[0mpython\u001b[0m\u001b[1;33m\u001b[0m\u001b[1;33m\u001b[0m\u001b[0m\n\u001b[0m",
      "\u001b[1;31mNameError\u001b[0m: name 'c' is not defined"
     ]
    }
   ],
   "source": [
    "c, java , python"
   ]
  },
  {
   "cell_type": "markdown",
   "id": "d3292fb2-03a5-444b-8e4c-887aa4084958",
   "metadata": {},
   "source": [
    "# # Omit the second index to make a copy starting at the first \n",
    "index and going to the end of the container"
   ]
  },
  {
   "cell_type": "code",
   "execution_count": 38,
   "id": "eaae4f86-388a-4db2-af3a-9cfff6b0515f",
   "metadata": {},
   "outputs": [],
   "source": [
    "ab = \"\"\"this is a mulit-line string that uses triple quotes.\"\"\""
   ]
  },
  {
   "cell_type": "code",
   "execution_count": 39,
   "id": "42d645e5-aedb-4138-a21a-9c1a0d2f1389",
   "metadata": {},
   "outputs": [
    {
     "data": {
      "text/plain": [
       "'this is a mulit-line string that uses triple quotes.'"
      ]
     },
     "execution_count": 39,
     "metadata": {},
     "output_type": "execute_result"
    }
   ],
   "source": [
    "ab"
   ]
  },
  {
   "cell_type": "code",
   "execution_count": null,
   "id": "cf3a1ea8-3d65-4356-a479-737d6edf14a3",
   "metadata": {},
   "outputs": [],
   "source": []
  }
 ],
 "metadata": {
  "kernelspec": {
   "display_name": "Python 3",
   "language": "python",
   "name": "python3"
  },
  "language_info": {
   "codemirror_mode": {
    "name": "ipython",
    "version": 3
   },
   "file_extension": ".py",
   "mimetype": "text/x-python",
   "name": "python",
   "nbconvert_exporter": "python",
   "pygments_lexer": "ipython3",
   "version": "3.8.8"
  }
 },
 "nbformat": 4,
 "nbformat_minor": 5
}
