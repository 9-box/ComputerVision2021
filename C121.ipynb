{
 "cells": [
  {
   "cell_type": "code",
   "execution_count": null,
   "id": "d867699a-f5be-46b9-9855-082fb13e6a5c",
   "metadata": {},
   "outputs": [],
   "source": [
    "import numpy as np\n",
    "import cv2"
   ]
  },
  {
   "cell_type": "code",
   "execution_count": null,
   "id": "1c6bce68-fc40-442e-9980-6dd086eb9c3a",
   "metadata": {},
   "outputs": [],
   "source": [
    "img = cv2.imread('abc.jpg',0)\n",
    "cv2.imshow('image',img)\n",
    "cv2.waitKey(0)\n",
    "cv2.destroyAllWindows()"
   ]
  },
  {
   "cell_type": "code",
   "execution_count": null,
   "id": "50c5c912-633a-4ab1-a405-5817bf06432d",
   "metadata": {},
   "outputs": [],
   "source": [
    "img = cv2.imread('abc.jpg',0)\n",
    "cv2.imshow('image',img)\n",
    "k= cv2.waitKey(0)\n",
    "if k == 27:\n",
    "    cv2.destroyAllWindows()\n",
    "elif k == ord('s'):\n",
    "    cv2.imwrite(\"abc.jpg\",img)\n",
    "    cv2.destroyAllWindows()"
   ]
  }
 ],
 "metadata": {
  "kernelspec": {
   "display_name": "Python 3",
   "language": "python",
   "name": "python3"
  },
  "language_info": {
   "codemirror_mode": {
    "name": "ipython",
    "version": 3
   },
   "file_extension": ".py",
   "mimetype": "text/x-python",
   "name": "python",
   "nbconvert_exporter": "python",
   "pygments_lexer": "ipython3",
   "version": "3.9.4"
  }
 },
 "nbformat": 4,
 "nbformat_minor": 5
}
